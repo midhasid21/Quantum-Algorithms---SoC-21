{
 "cells": [
  {
   "cell_type": "code",
   "execution_count": null,
   "id": "145fdd76",
   "metadata": {},
   "outputs": [],
   "source": [
    "//A1\n",
    "namespace Solution {\n",
    "    open Microsoft.Quantum.Intrinsic;\n",
    "    open Microsoft.Quantum.Measurement;\n",
    "    operation Solve (unitary : (Qubit[] => Unit is Adj+Ctl)) : Int {\n",
    "        using(qubits = Qubit[2]){\n",
    "        for q in qubits{\n",
    "            X(q);\n",
    "        }\n",
    "        unitary(qubits);\n",
    "        let a = M(qubits[0]);\n",
    "        for q in qubits{\n",
    "            Reset(q);\n",
    "        }\n",
    "        if(a == One){\n",
    "            return 0;\n",
    "        }\n",
    "        else{\n",
    "            return 1;\n",
    "        }\n",
    "    }\n",
    "    }\n",
    "}\n"
   ]
  },
  {
   "cell_type": "code",
   "execution_count": 14,
   "id": "49207888",
   "metadata": {},
   "outputs": [
    {
     "data": {
      "application/json": "[\"Solve\"]",
      "text/html": [
       "<ul><li>Solve</li></ul>"
      ],
      "text/plain": [
       "Solve"
      ]
     },
     "execution_count": 14,
     "metadata": {},
     "output_type": "execute_result"
    }
   ],
   "source": [
    "//A2\n",
    "namespace Solution {\n",
    "    open Microsoft.Quantum.Intrinsic;\n",
    "    open Microsoft.Quantum.Measurement;\n",
    "    operation Solve (unitary : (Qubit[] => Unit is Adj+Ctl)) : Int {\n",
    "        using(q = Qubit[2]){\n",
    "            X(q[1]);\n",
    "            unitary(q);\n",
    "            X(q[0]);\n",
    "            Controlled unitary(q[0],q);\n",
    "            let a = M(q[1]);\n",
    "            let b = M(q[1]);\n",
    "            for qubit in q{\n",
    "                Reset(qubit);\n",
    "            }\n",
    "            if(a == Zero and b == Zero){\n",
    "                return 3;\n",
    "            }\n",
    "            elif(a == Zero and b == One){\n",
    "                return 1;\n",
    "            }\n",
    "            elif(a == One and b == Zero){\n",
    "                return 2;\n",
    "            }\n",
    "            elif(a == One and b == One){\n",
    "                return 0;\n",
    "            }\n",
    "            \n",
    "        }\n",
    "    }\n",
    "}"
   ]
  },
  {
   "cell_type": "code",
   "execution_count": 15,
   "id": "ade09cba",
   "metadata": {},
   "outputs": [
    {
     "data": {
      "application/json": "0",
      "text/plain": [
       "0"
      ]
     },
     "execution_count": 15,
     "metadata": {},
     "output_type": "execute_result"
    }
   ],
   "source": [
    "//A3\n",
    "namespace Solution {\n",
    "    open Microsoft.Quantum.Intrinsic;\n",
    "\n",
    "    operation Solve (unitary : (Qubit => Unit is Adj+Ctl)) : Int {\n",
    "        using(q = Qubit()){\n",
    "            unitary(q);\n",
    "            X(q);\n",
    "            unitary(q);\n",
    "            return (M(q) == One) ? 1 | 0;\n",
    "        }\n",
    "    }\n",
    "}\n"
   ]
  },
  {
   "cell_type": "code",
   "execution_count": null,
   "id": "548e8729",
   "metadata": {},
   "outputs": [],
   "source": [
    "//A4\n",
    "namespace Solution {\n",
    "    open Microsoft.Quantum.Intrinsic;\n",
    "    open Microsoft.Quantum.Math;\n",
    "    operation Solve (unitary : ((Double, Qubit) => Unit is Adj+Ctl)) : Int {\n",
    "        using(q = Qubit[2]){\n",
    "            H(q[0]);\n",
    "            Controlled unitary(q[0],(2.0*PI(),q));\n",
    "            return (M(q[0]) == Zero) ? 1 | 0;            \n",
    "        }\n",
    "    }\n",
    "}\n"
   ]
  },
  {
   "cell_type": "code",
   "execution_count": null,
   "id": "1cbdcb7f",
   "metadata": {},
   "outputs": [],
   "source": [
    "//A5\n",
    "namespace Solution {\n",
    "    open Microsoft.Quantum.Math;\n",
    "    open Microsoft.Quantum.Intrinsic;\n",
    "    operation Solve (theta : Double, unitary : (Qubit => Unit is Adj+Ctl)) : Int {\n",
    "        using(q = Qubit()){\n",
    "            let angle = MinD(theta, PI() - theta);\n",
    "            let divup = Ceiling(PI()/angle);\n",
    "            let divdown = Floor(PI()/angle);\n",
    "            mutable Mup = M(q);\n",
    "            mutable Mdown = M(q);\n",
    "            mutable result = ConstantArray(11, 0);\n",
    "            mutable counter = 0;\n",
    "            repeat{\n",
    "            for i in 0 .. 10{\n",
    "                repeat{\n",
    "                for num in 0 .. divdown - 1{\n",
    "                    unitary(q);\n",
    "                }\n",
    "                set Mdown = M(q);\n",
    "                Reset(q);\n",
    "                for num in 0 .. divup - 1{\n",
    "                    unitary(q);\n",
    "                }\n",
    "                set Mup = M(q);\n",
    "                Reset(q);\n",
    "                }\n",
    "                until Mup == Mdown;\n",
    "                if(Mup == Zero){\n",
    "                    set result[i] = 0;\n",
    "                }\n",
    "                else{\n",
    "                    set result[i] = 1;\n",
    "                }\n",
    "            }\n",
    "            set counter = 0;\n",
    "            for i in 0 .. 10{\n",
    "                if(result[i] == 0){\n",
    "                    set counter += 1;\n",
    "                }\n",
    "            }\n",
    "            }\n",
    "            until counter == 0 or counter == 11;\n",
    "            \n",
    "            return result[0];\n",
    "            \n",
    "            \n",
    "}"
   ]
  }
 ],
 "metadata": {
  "kernelspec": {
   "display_name": "Q#",
   "language": "qsharp",
   "name": "iqsharp"
  },
  "language_info": {
   "file_extension": ".qs",
   "mimetype": "text/x-qsharp",
   "name": "qsharp",
   "version": "0.14"
  }
 },
 "nbformat": 4,
 "nbformat_minor": 5
}
